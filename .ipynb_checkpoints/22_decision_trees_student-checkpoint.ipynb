{
 "cells": [
  {
   "cell_type": "markdown",
   "id": "33fc47b9-f8a8-44b8-aed2-b57112149d86",
   "metadata": {},
   "source": [
    "# Arbres de décision \n",
    "\n",
    "decision trees\n"
   ]
  },
  {
   "cell_type": "markdown",
   "id": "b30961e3-604d-4dab-a438-76991b6c6968",
   "metadata": {},
   "source": [
    "## Application à un vrai jeu de données\n",
    "\n",
    "Peut-on prédire si un client va acheter une assurance ou pas?\n",
    "\n",
    "[dataset Caravan](https://islp.readthedocs.io/en/latest/datasets/Caravan.html)\n"
   ]
  },
  {
   "cell_type": "markdown",
   "id": "043b4aa9-e6d8-4b3b-a134-188dcd7e75c3",
   "metadata": {},
   "source": [
    "Nous allons utiliser un [Classifieur par arbre de décision](https://scikit-learn.org/stable/modules/generated/sklearn.tree.DecisionTreeClassifier.html) et comparer les résultats avec kNN.\n",
    "\n",
    "Le but est d'avoir au final l'algorithme le plus performant pour répondre à notre problématique."
   ]
  },
  {
   "cell_type": "markdown",
   "id": "65783ca6-7372-4d53-94fc-176c8543eba7",
   "metadata": {},
   "source": [
    "### Classification de référence (baseline)"
   ]
  },
  {
   "cell_type": "code",
   "execution_count": 1,
   "id": "d680d4fe-1d38-46c0-bf4f-94e44196862d",
   "metadata": {},
   "outputs": [],
   "source": [
    "from ISLP import load_data\n",
    "from ISLP import confusion_table\n",
    "from sklearn.model_selection import train_test_split\n",
    "from sklearn.tree import DecisionTreeClassifier "
   ]
  },
  {
   "cell_type": "markdown",
   "id": "4aaf69a4-bd73-47b5-97f0-cfea79e843db",
   "metadata": {},
   "source": [
    "Utiliser un [Classifieur par arbre de décision](https://scikit-learn.org/stable/modules/generated/sklearn.tree.DecisionTreeClassifier.html) en laissant les paramètres par défaut de sklearn.\n",
    "\n",
    "Afficher la table de confusion pour l'évaluation du jeu de test."
   ]
  },
  {
   "cell_type": "code",
   "execution_count": 2,
   "id": "91b84745-0a3d-4f4a-a661-da88f69d7c5f",
   "metadata": {},
   "outputs": [],
   "source": [
    "caravan = load_data('Caravan')\n",
    "\n",
    "y = caravan.Purchase.map(lambda x: 1 if x=='Yes' else 0)  # Pour les métriques de scikit learn\n",
    "X = caravan.drop(columns=['Purchase'])\n",
    "\n",
    "pass"
   ]
  },
  {
   "cell_type": "markdown",
   "id": "6168b088-c8bb-4b28-be85-49170d5e06a3",
   "metadata": {},
   "source": [
    "Calculer le score de notre métrique: tp/(tp+fp)"
   ]
  },
  {
   "cell_type": "code",
   "execution_count": 3,
   "id": "9ff11d6c-908a-441d-a54b-322abf6d4428",
   "metadata": {},
   "outputs": [],
   "source": [
    "pass"
   ]
  },
  {
   "cell_type": "markdown",
   "id": "72312b3a-d654-44f0-aa2c-4e443f007637",
   "metadata": {},
   "source": [
    "Comparer le résultat avec kNN"
   ]
  },
  {
   "cell_type": "markdown",
   "id": "579b0cb5-001a-47f6-9894-e46203c97477",
   "metadata": {},
   "source": [
    "Quel est l'effet de la normalisation avant l'entraînement d'un arbre de décision?"
   ]
  },
  {
   "cell_type": "markdown",
   "id": "707c0574-3930-4ec4-b599-e63bbbfacd76",
   "metadata": {},
   "source": [
    "Définition d'une fonction pour mesurer notre métrique:"
   ]
  },
  {
   "cell_type": "code",
   "execution_count": 5,
   "id": "c11c27cf-832d-430f-ba6f-ac16ab72a627",
   "metadata": {},
   "outputs": [],
   "source": [
    "from sklearn.metrics import confusion_matrix\n",
    "# cm = confusion_matrix(y_test, y_test_pred)  # ! inversé par rapport à la fonction de ISLP\n",
    "# cm # ! affichage transposé par rapport à celui de ISLP"
   ]
  },
  {
   "cell_type": "code",
   "execution_count": 6,
   "id": "1497f71b-cf76-47bc-9902-58540ad44cbe",
   "metadata": {},
   "outputs": [],
   "source": [
    "# Calcul de notre métrique\n",
    "pass"
   ]
  },
  {
   "cell_type": "markdown",
   "id": "ce74ed78-3d43-4726-b9bc-40a091a0daf0",
   "metadata": {},
   "source": [
    "Définition d'une fonction pour mesurer notre métrique:"
   ]
  },
  {
   "cell_type": "code",
   "execution_count": 7,
   "id": "7ceb9d3b-9adf-4484-a600-3437358a1b75",
   "metadata": {},
   "outputs": [],
   "source": [
    "from sklearn.metrics import confusion_matrix\n",
    "\n",
    "# La valeur prédictive positive : Positive predictive value (PPV), precision\n",
    "def metric(y_true, y_pred):\n",
    "    \"\"\"\n",
    "    args:\n",
    "        y_true: classes connues associées aux éléments de X \n",
    "        y_pred: classes prédites\n",
    "\n",
    "    return:\n",
    "        la valeur de la mesure choisie\n",
    "    \"\"\"    \n",
    "    pass"
   ]
  },
  {
   "cell_type": "code",
   "execution_count": 8,
   "id": "45917123-6410-4779-ae00-47712273b69b",
   "metadata": {},
   "outputs": [],
   "source": [
    "# test\n",
    "# metric(y_test, y_test_pred)"
   ]
  },
  {
   "cell_type": "markdown",
   "id": "ca25e93a-1c70-4f3a-be04-3c84ab3d6a0b",
   "metadata": {},
   "source": [
    "### Exploration des hyperparamètres\n",
    "\n",
    "On peut ensuite faire une exploration des hyperparamètres pour essayer d'améliorer ce résultat.\n",
    "\n",
    "Paramètres de la fonction [DecisionTreeClassifier](https://scikit-learn.org/stable/modules/generated/sklearn.tree.DecisionTreeClassifier.html) de scikit-learn à explorer (a minima):\n",
    "- criterion\n",
    "- max_depth\n",
    "\n",
    "Quelle est la meilleur combinaison d'hyperparamètres?"
   ]
  },
  {
   "cell_type": "code",
   "execution_count": 9,
   "id": "8bfd23f7-caae-41b3-a08b-a468b01827a2",
   "metadata": {},
   "outputs": [],
   "source": [
    "pass"
   ]
  },
  {
   "cell_type": "markdown",
   "id": "3b24b980-8948-45c0-9011-62110b945e8b",
   "metadata": {},
   "source": [
    "On peut obtenir un bon score, mais très peu de valeurs sélectionnées. Pour réussir à vendre nos contrats d'assurance, c'est pas terrible.\n",
    "\n",
    "Si on veut que nos commerciaux aient un nombre suffisant de prospects à appeler il faudrait contraindre notre solution a choisir un algorithme qui renvoit un nombre suffisant de résultats prédits positifs.\n",
    "\n",
    "Disons au minium `19`, ce qu'on avait avec knn.\n",
    "\n",
    "Quelle est dans ce cas la meilleur combinaison d'hyperparamètres?"
   ]
  },
  {
   "cell_type": "code",
   "execution_count": 10,
   "id": "81a61247-0adc-4958-a46c-cf9dfdba979d",
   "metadata": {},
   "outputs": [],
   "source": [
    "pass"
   ]
  },
  {
   "cell_type": "markdown",
   "id": "bf758adc-042c-418b-b9de-f2ba5e3abcfc",
   "metadata": {},
   "source": [
    "### Affinons la solution"
   ]
  },
  {
   "cell_type": "markdown",
   "id": "03f0185e-de25-47db-9f6c-a9e65d5bb37f",
   "metadata": {},
   "source": [
    "Est-il possible d'améliorer le résultat obtenu?"
   ]
  },
  {
   "cell_type": "code",
   "execution_count": 11,
   "id": "fc2070a8-44f7-4603-bc99-542d2daf20b5",
   "metadata": {},
   "outputs": [],
   "source": [
    "pass"
   ]
  },
  {
   "cell_type": "code",
   "execution_count": null,
   "id": "df5f084e-b440-445e-bd6d-cea2369f8548",
   "metadata": {},
   "outputs": [],
   "source": []
  },
  {
   "cell_type": "code",
   "execution_count": null,
   "id": "ccffd028-0d0c-44e9-b197-c591a25340a3",
   "metadata": {},
   "outputs": [],
   "source": []
  }
 ],
 "metadata": {
  "kernelspec": {
   "display_name": "ml",
   "language": "python",
   "name": "ml"
  },
  "language_info": {
   "codemirror_mode": {
    "name": "ipython",
    "version": 3
   },
   "file_extension": ".py",
   "mimetype": "text/x-python",
   "name": "python",
   "nbconvert_exporter": "python",
   "pygments_lexer": "ipython3",
   "version": "3.11.8"
  }
 },
 "nbformat": 4,
 "nbformat_minor": 5
}
