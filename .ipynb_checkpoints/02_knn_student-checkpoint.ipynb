{
 "cells": [
  {
   "cell_type": "markdown",
   "id": "181869c4-5bbf-4753-a978-4eeffcb9a89c",
   "metadata": {},
   "source": [
    "# Normalisation, Cas concret, scikit learn\n",
    "\n",
    "Algorithme des plus proches voisins\n",
    "\n",
    "knn : k nearest neighbors"
   ]
  },
  {
   "cell_type": "code",
   "execution_count": 8,
   "id": "58c7ddd0-2d80-4f90-96de-7e90b34e0102",
   "metadata": {},
   "outputs": [],
   "source": [
    "import numpy as np"
   ]
  },
  {
   "cell_type": "code",
   "execution_count": 9,
   "id": "330b3eb1-94a7-41e8-be9b-f14f3dbaad16",
   "metadata": {},
   "outputs": [],
   "source": [
    "import math\n",
    "from collections import Counter\n",
    "\n",
    "def kNN(X, y, new_x, k=3):\n",
    "    \"\"\"\n",
    "    args:\n",
    "        X: jeu de données initiales\n",
    "        y: classes associées aux éléments de X \n",
    "        new_x: nouveau point que l'on souhaite classer\n",
    "        k: nombre de voisins pris dans l'évaluation\n",
    "\n",
    "    return:\n",
    "        La classe de `y` la plus fréquente\n",
    "    \"\"\"\n",
    "    distances = [math.dist(new_x, x) for x in X]\n",
    "    plus_petites_distances = sorted([(d, c) for (d,c) in zip(distances, y)])[:k]\n",
    "    counter = Counter([classe for _, classe in plus_petites_distances])\n",
    "    \n",
    "    return counter.most_common(1)[0][0]"
   ]
  },
  {
   "cell_type": "markdown",
   "id": "ffd0c047-9aa0-40f0-b2d3-ed4764df3463",
   "metadata": {},
   "source": [
    "## Normalisation"
   ]
  },
  {
   "cell_type": "markdown",
   "id": "d1b74334-f556-4c14-9b63-bf39a763379d",
   "metadata": {},
   "source": [
    "### Normalisation: motivation\n",
    "\n",
    "Création d'un jeu de données d'exemple"
   ]
  },
  {
   "cell_type": "code",
   "execution_count": 3,
   "id": "4c112081-4219-4cde-bef1-56e354cbfb3b",
   "metadata": {},
   "outputs": [],
   "source": [
    "from collections import namedtuple\n",
    "\n",
    "Point = namedtuple('Point', 'x1 x2')"
   ]
  },
  {
   "cell_type": "code",
   "execution_count": 4,
   "id": "f83da559-e9e9-4c38-829f-2ab54a0f5cb7",
   "metadata": {},
   "outputs": [
    {
     "data": {
      "text/plain": [
       "Point(x1=1, x2=2)"
      ]
     },
     "execution_count": 4,
     "metadata": {},
     "output_type": "execute_result"
    }
   ],
   "source": [
    "p = Point(1, 2)\n",
    "p"
   ]
  },
  {
   "cell_type": "code",
   "execution_count": 5,
   "id": "31b49db1-810b-4772-80d5-7937b3555323",
   "metadata": {},
   "outputs": [
    {
     "data": {
      "text/plain": [
       "1"
      ]
     },
     "execution_count": 5,
     "metadata": {},
     "output_type": "execute_result"
    }
   ],
   "source": [
    "p.x1"
   ]
  },
  {
   "cell_type": "code",
   "execution_count": 11,
   "id": "a573dad1-c8d5-47db-92d1-47d3b4a2cf25",
   "metadata": {},
   "outputs": [
    {
     "data": {
      "text/plain": [
       "1"
      ]
     },
     "execution_count": 11,
     "metadata": {},
     "output_type": "execute_result"
    }
   ],
   "source": [
    "p[0]"
   ]
  },
  {
   "cell_type": "code",
   "execution_count": 6,
   "id": "5da90add-cfe5-4cc2-b81f-34ec8525fee8",
   "metadata": {},
   "outputs": [
    {
     "data": {
      "text/plain": [
       "[0, 2, 4, 6, 8, 10]"
      ]
     },
     "execution_count": 6,
     "metadata": {},
     "output_type": "execute_result"
    }
   ],
   "source": [
    "# abscisses\n",
    "list(range(0,12,2))"
   ]
  },
  {
   "cell_type": "code",
   "execution_count": 9,
   "id": "8f4a6f58-64e3-4aab-982d-60df72386a97",
   "metadata": {},
   "outputs": [],
   "source": [
    "points_bleus = [Point(x1, 0) for x1 in range(2,12,2)]\n",
    "points_rouges = [Point(x1, 1) for x1 in range(0,10,2)]\n",
    "\n",
    "points = points_bleus + points_rouges\n",
    "couleurs = ['bleu']*len(points_bleus) + ['rouge']*len(points_rouges)"
   ]
  },
  {
   "cell_type": "code",
   "execution_count": 10,
   "id": "8e7867df-8dc2-42a5-a759-affd0fdb6a2e",
   "metadata": {},
   "outputs": [
    {
     "data": {
      "text/plain": [
       "[Point(x1=2, x2=0),\n",
       " Point(x1=4, x2=0),\n",
       " Point(x1=6, x2=0),\n",
       " Point(x1=8, x2=0),\n",
       " Point(x1=10, x2=0),\n",
       " Point(x1=0, x2=1),\n",
       " Point(x1=2, x2=1),\n",
       " Point(x1=4, x2=1),\n",
       " Point(x1=6, x2=1),\n",
       " Point(x1=8, x2=1)]"
      ]
     },
     "execution_count": 10,
     "metadata": {},
     "output_type": "execute_result"
    }
   ],
   "source": [
    "points"
   ]
  },
  {
   "cell_type": "code",
   "execution_count": 12,
   "id": "64c92c0c-31ad-48bf-a598-a3f8ad306da2",
   "metadata": {},
   "outputs": [
    {
     "data": {
      "image/png": "[encoded data removed]",
      "text/plain": [
       "<Figure size 640x480 with 1 Axes>"
      ]
     },
     "metadata": {},
     "output_type": "display_data"
    }
   ],
   "source": [
    "import matplotlib.pyplot as plt\n",
    "\n",
    "abscisses  = [point.x1 for point in points]\n",
    "ordonnées = [point.x2 for point in points]\n",
    "\n",
    "point_inconnu = Point(10, 1)\n",
    "\n",
    "colors = []\n",
    "for c in couleurs:\n",
    "    if c == 'bleu':\n",
    "        colors.append('tab:blue')\n",
    "    else:\n",
    "        colors.append('tab:red')\n",
    "\n",
    "# point_inconnu\n",
    "abscisses.append(point_inconnu.x1)\n",
    "ordonnées.append(point_inconnu.x2)\n",
    "colors.append('black')\n",
    "\n",
    "plt.ylim(-0.5, 10)\n",
    "plt.scatter(abscisses, ordonnées, c=colors, alpha=0.5)\n",
    "plt.show()"
   ]
  },
  {
   "cell_type": "markdown",
   "id": "11d85efe-e311-4082-8891-2a76af94c129",
   "metadata": {},
   "source": [
    "`(10, 1)` serait rouge mais classé bleu pour  k=1\n"
   ]
  },
  {
   "cell_type": "code",
   "execution_count": 44,
   "id": "027c7f79-09a2-4b8b-a99b-f38c25029e13",
   "metadata": {},
   "outputs": [
    {
     "data": {
      "text/plain": [
       "'bleu'"
      ]
     },
     "execution_count": 44,
     "metadata": {},
     "output_type": "execute_result"
    }
   ],
   "source": [
    "kNN(points, couleurs, point_inconnu, k=1)"
   ]
  },
  {
   "cell_type": "code",
   "execution_count": 45,
   "id": "85853097-04d9-4643-a659-558c9e6b58ff",
   "metadata": {},
   "outputs": [
    {
     "data": {
      "text/plain": [
       "'bleu'"
      ]
     },
     "execution_count": 45,
     "metadata": {},
     "output_type": "execute_result"
    }
   ],
   "source": [
    "kNN(points, couleurs, point_inconnu, k=3)"
   ]
  },
  {
   "cell_type": "markdown",
   "id": "174022d4-45e8-4e91-a35b-869b6ec9a815",
   "metadata": {},
   "source": [
    "### Moyenne, variance et écart type\n",
    "\n",
    "Pour l'ensemble de n valeurs `x = [x_1, ..., x_n ]`, on définit:\n",
    "- la moyenne (mean):\n",
    "$$\\overline{x} = \\mu = \\frac{1}{n} \\sum_{i=1}^{n}x_{i}$$\n",
    "- La variance qui est une mesure de la dispersion de l'échantillon, c'est la moyenne des carrés des distances à la moyenne de l'échantillon.\n",
    "$$Var(x)=\\sigma^2=\\frac{1}{n} \\sum_{i=1}^{n}(x_{i}-\\mu)^2$$\n",
    "- l'écart type (standard deviation) \n",
    "$$\\sigma=\\sqrt{Var(x)}=\\sqrt{\\frac{1}{n} \\sum_{i=1}^{n}(x_{i}-\\overline{x})^2}$$"
   ]
  },
  {
   "cell_type": "markdown",
   "id": "17231e05-99c5-47e8-bb0b-e25f8ab5dc30",
   "metadata": {},
   "source": [
    "### Normalisation standard\n",
    "\n",
    "Pour l'ensemble de n valeurs $x = [x_1, ..., x_n ]$, on définit:\n",
    "$$z_{i} = \\frac{x_{i}-\\mu}{\\sigma}$$\n",
    "\n",
    "On utilise `z`à la place de `x`\n",
    "\n",
    "On fait le même procédé sur chacun des axes"
   ]
  },
  {
   "cell_type": "code",
   "execution_count": 13,
   "id": "4729e1c2-ef08-40a4-89f3-3328d852d200",
   "metadata": {},
   "outputs": [
    {
     "data": {
      "text/plain": [
       "[Point(x1=2, x2=0),\n",
       " Point(x1=4, x2=0),\n",
       " Point(x1=6, x2=0),\n",
       " Point(x1=8, x2=0),\n",
       " Point(x1=10, x2=0),\n",
       " Point(x1=0, x2=1),\n",
       " Point(x1=2, x2=1),\n",
       " Point(x1=4, x2=1),\n",
       " Point(x1=6, x2=1),\n",
       " Point(x1=8, x2=1)]"
      ]
     },
     "execution_count": 13,
     "metadata": {},
     "output_type": "execute_result"
    }
   ],
   "source": [
    "points"
   ]
  },
  {
   "cell_type": "code",
   "execution_count": 14,
   "id": "604cab68-33a9-4e73-9114-f16bd13b8eaf",
   "metadata": {},
   "outputs": [
    {
     "data": {
      "text/plain": [
       "['bleu',\n",
       " 'bleu',\n",
       " 'bleu',\n",
       " 'bleu',\n",
       " 'bleu',\n",
       " 'rouge',\n",
       " 'rouge',\n",
       " 'rouge',\n",
       " 'rouge',\n",
       " 'rouge']"
      ]
     },
     "execution_count": 14,
     "metadata": {},
     "output_type": "execute_result"
    }
   ],
   "source": [
    "couleurs"
   ]
  },
  {
   "cell_type": "code",
   "execution_count": 15,
   "id": "9019cc55-e002-4691-9580-90b6324ae274",
   "metadata": {},
   "outputs": [
    {
     "data": {
      "text/plain": [
       "[2, 4, 6, 8, 10, 0, 2, 4, 6, 8]"
      ]
     },
     "execution_count": 15,
     "metadata": {},
     "output_type": "execute_result"
    }
   ],
   "source": [
    "x1 = [point.x1 for point in points]\n",
    "x1"
   ]
  },
  {
   "cell_type": "markdown",
   "id": "6a3a047b-ca5a-4219-8338-0d37115b6e0f",
   "metadata": {},
   "source": [
    "[statistics — Mathematical statistics functions](https://docs.python.org/3/library/statistics.html)"
   ]
  },
  {
   "cell_type": "code",
   "execution_count": 16,
   "id": "e4d24c62-bd40-4c87-b664-e4a109cc47f9",
   "metadata": {},
   "outputs": [
    {
     "data": {
      "text/plain": [
       "5"
      ]
     },
     "execution_count": 16,
     "metadata": {},
     "output_type": "execute_result"
    }
   ],
   "source": [
    "from statistics import mean, stdev\n",
    "\n",
    "mean(x1)"
   ]
  },
  {
   "cell_type": "code",
   "execution_count": 17,
   "id": "c3741732-9604-4dba-8cda-686468ab819f",
   "metadata": {},
   "outputs": [
    {
     "data": {
      "text/plain": [
       "3.1622776601683795"
      ]
     },
     "execution_count": 17,
     "metadata": {},
     "output_type": "execute_result"
    }
   ],
   "source": [
    "stdev(x1)"
   ]
  },
  {
   "cell_type": "code",
   "execution_count": 18,
   "id": "5127bead-e126-4688-848c-d99fc2ead8b5",
   "metadata": {},
   "outputs": [
    {
     "data": {
      "text/plain": [
       "[-0.9486832980505138,\n",
       " -0.31622776601683794,\n",
       " 0.31622776601683794,\n",
       " 0.9486832980505138,\n",
       " 1.5811388300841895,\n",
       " -1.5811388300841895,\n",
       " -0.9486832980505138,\n",
       " -0.31622776601683794,\n",
       " 0.31622776601683794,\n",
       " 0.9486832980505138]"
      ]
     },
     "execution_count": 18,
     "metadata": {},
     "output_type": "execute_result"
    }
   ],
   "source": [
    "z1 = [(x1_i - mean(x1))/stdev(x1) for x1_i in x1]\n",
    "z1"
   ]
  },
  {
   "cell_type": "code",
   "execution_count": 18,
   "id": "04fbdd18-4b8e-4f30-b2dc-8ea36fdb38db",
   "metadata": {},
   "outputs": [
    {
     "data": {
      "text/plain": [
       "0.0"
      ]
     },
     "execution_count": 18,
     "metadata": {},
     "output_type": "execute_result"
    }
   ],
   "source": [
    "mean(z1)"
   ]
  },
  {
   "cell_type": "code",
   "execution_count": 19,
   "id": "746ca187-06de-4389-848c-2dedc506b074",
   "metadata": {},
   "outputs": [
    {
     "data": {
      "text/plain": [
       "0.9999999999999999"
      ]
     },
     "execution_count": 19,
     "metadata": {},
     "output_type": "execute_result"
    }
   ],
   "source": [
    "stdev(z1)"
   ]
  },
  {
   "cell_type": "code",
   "execution_count": 19,
   "id": "f465914f-9a4a-480a-aed9-2ecca5451e26",
   "metadata": {},
   "outputs": [
    {
     "data": {
      "text/plain": [
       "[-0.9486832980505138,\n",
       " -0.9486832980505138,\n",
       " -0.9486832980505138,\n",
       " -0.9486832980505138,\n",
       " -0.9486832980505138,\n",
       " 0.9486832980505138,\n",
       " 0.9486832980505138,\n",
       " 0.9486832980505138,\n",
       " 0.9486832980505138,\n",
       " 0.9486832980505138]"
      ]
     },
     "execution_count": 19,
     "metadata": {},
     "output_type": "execute_result"
    }
   ],
   "source": [
    "x2 = [point.x2 for point in points]\n",
    "z2 = [(x2_i - mean(x2))/stdev(x2) for x2_i in x2]\n",
    "z2"
   ]
  },
  {
   "cell_type": "code",
   "execution_count": 20,
   "id": "c6878f57-193c-47aa-a54b-ed846b4c78f6",
   "metadata": {},
   "outputs": [
    {
     "data": {
      "text/plain": [
       "(0.0, 1.0)"
      ]
     },
     "execution_count": 20,
     "metadata": {},
     "output_type": "execute_result"
    }
   ],
   "source": [
    "mean(z2), stdev(z2)"
   ]
  },
  {
   "cell_type": "code",
   "execution_count": 55,
   "id": "73c32249-2e6f-483d-a4a7-21ced9012e03",
   "metadata": {},
   "outputs": [
    {
     "data": {
      "text/plain": [
       "Point(x1=10, x2=1)"
      ]
     },
     "execution_count": 55,
     "metadata": {},
     "output_type": "execute_result"
    }
   ],
   "source": [
    "point_inconnu"
   ]
  },
  {
   "cell_type": "code",
   "execution_count": 56,
   "id": "8fa44fe7-9c8f-4732-9b68-4e697f88c86f",
   "metadata": {},
   "outputs": [],
   "source": [
    "# valeurs de moyennes et d'écarts types reprises pour la modification des coordonnées du point inconnu\n",
    "z1_inconnu = (point_inconnu.x1 - mean(x1))/stdev(x1)\n",
    "z2_inconnu = (point_inconnu.x2 - mean(x2))/stdev(x2)\n",
    "\n",
    "# Pour l'affichage\n",
    "z1.append(z1_inconnu)\n",
    "z2.append(z2_inconnu)"
   ]
  },
  {
   "cell_type": "code",
   "execution_count": 57,
   "id": "930f8b63-0f67-468c-a84d-9575c1ad8a0c",
   "metadata": {},
   "outputs": [
    {
     "data": {
      "image/png": "[encoded data removed]",
      "text/plain": [
       "<Figure size 640x480 with 1 Axes>"
      ]
     },
     "metadata": {},
     "output_type": "display_data"
    }
   ],
   "source": [
    "colors = []\n",
    "for c in couleurs:\n",
    "    if c == 'bleu':\n",
    "        colors.append('tab:blue')\n",
    "    else:\n",
    "        colors.append('tab:red')\n",
    "colors.append('black')\n",
    "\n",
    "plt.ylim(-1.6, 1.6)\n",
    "plt.scatter(z1, z2, c=colors, alpha=0.5)\n",
    "plt.show()"
   ]
  },
  {
   "cell_type": "markdown",
   "id": "1659b6da-00d8-4b2e-91f9-24d6fb86a4ef",
   "metadata": {},
   "source": [
    "### kNN sur données normalisées"
   ]
  },
  {
   "cell_type": "code",
   "execution_count": 58,
   "id": "102c3276-6cf8-456f-9065-5bb078c8ede8",
   "metadata": {},
   "outputs": [
    {
     "data": {
      "text/plain": [
       "[(-0.9486832980505138, -0.9486832980505138),\n",
       " (-0.31622776601683794, -0.9486832980505138),\n",
       " (0.31622776601683794, -0.9486832980505138),\n",
       " (0.9486832980505138, -0.9486832980505138),\n",
       " (1.5811388300841895, -0.9486832980505138),\n",
       " (-1.5811388300841895, 0.9486832980505138),\n",
       " (-0.9486832980505138, 0.9486832980505138),\n",
       " (-0.31622776601683794, 0.9486832980505138),\n",
       " (0.31622776601683794, 0.9486832980505138),\n",
       " (0.9486832980505138, 0.9486832980505138)]"
      ]
     },
     "execution_count": 58,
     "metadata": {},
     "output_type": "execute_result"
    }
   ],
   "source": [
    "z1.pop()\n",
    "z2.pop()\n",
    "list(zip(z1, z2))"
   ]
  },
  {
   "cell_type": "code",
   "execution_count": 59,
   "id": "24295dfa-7eed-4ad8-8fbd-e59ae827d41e",
   "metadata": {},
   "outputs": [],
   "source": [
    "X_normalisé = list(zip(z1, z2))"
   ]
  },
  {
   "cell_type": "code",
   "execution_count": 60,
   "id": "257f5c0d-02fa-4e1c-bcaf-1f8321c51820",
   "metadata": {},
   "outputs": [
    {
     "data": {
      "text/plain": [
       "Point(x1=1.5811388300841895, x2=0.9486832980505138)"
      ]
     },
     "execution_count": 60,
     "metadata": {},
     "output_type": "execute_result"
    }
   ],
   "source": [
    "point_inconnu_normalisé = Point(z1_inconnu, z2_inconnu)\n",
    "point_inconnu_normalisé"
   ]
  },
  {
   "cell_type": "code",
   "execution_count": 61,
   "id": "e2e4923a-e9d2-4f7b-9f91-654bfd852069",
   "metadata": {},
   "outputs": [
    {
     "data": {
      "text/plain": [
       "'rouge'"
      ]
     },
     "execution_count": 61,
     "metadata": {},
     "output_type": "execute_result"
    }
   ],
   "source": [
    "kNN(X_normalisé, couleurs, point_inconnu_normalisé, k=1)"
   ]
  },
  {
   "cell_type": "code",
   "execution_count": 62,
   "id": "26c52bd7-c162-4e60-9d95-853d10881c34",
   "metadata": {},
   "outputs": [
    {
     "data": {
      "text/plain": [
       "'rouge'"
      ]
     },
     "execution_count": 62,
     "metadata": {},
     "output_type": "execute_result"
    }
   ],
   "source": [
    "kNN(X_normalisé, couleurs, point_inconnu_normalisé, k=3)"
   ]
  },
  {
   "cell_type": "code",
   "execution_count": 63,
   "id": "814d4a90-c941-4c08-8906-2179059dac21",
   "metadata": {},
   "outputs": [
    {
     "data": {
      "text/plain": [
       "'rouge'"
      ]
     },
     "execution_count": 63,
     "metadata": {},
     "output_type": "execute_result"
    }
   ],
   "source": [
    "kNN(X_normalisé, couleurs, point_inconnu_normalisé, k=2)"
   ]
  },
  {
   "cell_type": "code",
   "execution_count": null,
   "id": "85161d38-fca3-4dc2-b6dd-77d9a803644f",
   "metadata": {},
   "outputs": [],
   "source": []
  }
 ],
 "metadata": {
  "kernelspec": {
   "display_name": "ml",
   "language": "python",
   "name": "ml"
  },
  "language_info": {
   "codemirror_mode": {
    "name": "ipython",
    "version": 3
   },
   "file_extension": ".py",
   "mimetype": "text/x-python",
   "name": "python",
   "nbconvert_exporter": "python",
   "pygments_lexer": "ipython3",
   "version": "3.11.8"
  }
 },
 "nbformat": 4,
 "nbformat_minor": 5
}
