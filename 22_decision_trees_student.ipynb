{
 "cells": [
  {
   "cell_type": "markdown",
   "id": "33fc47b9-f8a8-44b8-aed2-b57112149d86",
   "metadata": {},
   "source": [
    "# Arbres de décision \n",
    "\n",
    "decision trees\n"
   ]
  },
  {
   "cell_type": "markdown",
   "id": "b30961e3-604d-4dab-a438-76991b6c6968",
   "metadata": {},
   "source": [
    "## Application à un vrai jeu de données\n",
    "\n",
    "Peut-on prédire si un client va acheter une assurance ou pas?\n",
    "\n",
    "[dataset Caravan](https://islp.readthedocs.io/en/latest/datasets/Caravan.html)\n"
   ]
  },
  {
   "cell_type": "markdown",
   "id": "043b4aa9-e6d8-4b3b-a134-188dcd7e75c3",
   "metadata": {},
   "source": [
    "Nous allons utiliser un [Classifieur par arbre de décision](https://scikit-learn.org/stable/modules/generated/sklearn.tree.DecisionTreeClassifier.html) et comparer les résultats avec kNN.\n",
    "\n",
    "Le but est d'avoir au final l'algorithme le plus performant pour répondre à notre problématique."
   ]
  },
  {
   "cell_type": "markdown",
   "id": "65783ca6-7372-4d53-94fc-176c8543eba7",
   "metadata": {},
   "source": [
    "### Classification de référence (baseline)"
   ]
  },
  {
   "cell_type": "code",
   "execution_count": 1,
   "id": "d680d4fe-1d38-46c0-bf4f-94e44196862d",
   "metadata": {},
   "outputs": [],
   "source": [
    "from ISLP import load_data\n",
    "from ISLP import confusion_table\n",
    "from sklearn.model_selection import train_test_split\n",
    "from sklearn.tree import DecisionTreeClassifier "
   ]
  },
  {
   "cell_type": "markdown",
   "id": "4aaf69a4-bd73-47b5-97f0-cfea79e843db",
   "metadata": {},
   "source": [
    "Utiliser un [Classifieur par arbre de décision](https://scikit-learn.org/stable/modules/generated/sklearn.tree.DecisionTreeClassifier.html) en laissant les paramètres par défaut de sklearn.\n",
    "\n",
    "Afficher la table de confusion pour l'évaluation du jeu de test."
   ]
  },
  {
   "cell_type": "code",
   "execution_count": 2,
   "id": "91b84745-0a3d-4f4a-a661-da88f69d7c5f",
   "metadata": {},
   "outputs": [
    {
     "data": {
      "text/html": [
       "<div>\n",
       "<style scoped>\n",
       "    .dataframe tbody tr th:only-of-type {\n",
       "        vertical-align: middle;\n",
       "    }\n",
       "\n",
       "    .dataframe tbody tr th {\n",
       "        vertical-align: top;\n",
       "    }\n",
       "\n",
       "    .dataframe thead th {\n",
       "        text-align: right;\n",
       "    }\n",
       "</style>\n",
       "<table border=\"1\" class=\"dataframe\">\n",
       "  <thead>\n",
       "    <tr style=\"text-align: right;\">\n",
       "      <th>Truth</th>\n",
       "      <th>0</th>\n",
       "      <th>1</th>\n",
       "    </tr>\n",
       "    <tr>\n",
       "      <th>Predicted</th>\n",
       "      <th></th>\n",
       "      <th></th>\n",
       "    </tr>\n",
       "  </thead>\n",
       "  <tbody>\n",
       "    <tr>\n",
       "      <th>0</th>\n",
       "      <td>1015</td>\n",
       "      <td>64</td>\n",
       "    </tr>\n",
       "    <tr>\n",
       "      <th>1</th>\n",
       "      <td>72</td>\n",
       "      <td>13</td>\n",
       "    </tr>\n",
       "  </tbody>\n",
       "</table>\n",
       "</div>"
      ],
      "text/plain": [
       "Truth         0   1\n",
       "Predicted          \n",
       "0          1015  64\n",
       "1            72  13"
      ]
     },
     "execution_count": 2,
     "metadata": {},
     "output_type": "execute_result"
    }
   ],
   "source": [
    "caravan = load_data('Caravan')\n",
    "\n",
    "y = caravan.Purchase.map(lambda x: 1 if x=='Yes' else 0)  # Pour les métriques de scikit learn\n",
    "X = caravan.drop(columns=['Purchase'])\n",
    "\n",
    "(X_train,\n",
    " X_test,\n",
    " y_train,\n",
    " y_test) = train_test_split(X,\n",
    "                            y,\n",
    "                            test_size=1164,\n",
    "                            random_state=0)\n",
    "\n",
    "\n",
    "\n",
    "classifier = DecisionTreeClassifier(random_state=42)\n",
    "classifier.fit(X_train, y_train)\n",
    "\n",
    "y_test_pred = classifier.predict(X_test)\n",
    "confusion_table(y_test_pred, y_test)\n"
   ]
  },
  {
   "cell_type": "markdown",
   "id": "6168b088-c8bb-4b28-be85-49170d5e06a3",
   "metadata": {},
   "source": [
    "Calculer le score de notre métrique: tp/(tp+fp)"
   ]
  },
  {
   "cell_type": "code",
   "execution_count": 3,
   "id": "9ff11d6c-908a-441d-a54b-322abf6d4428",
   "metadata": {},
   "outputs": [
    {
     "data": {
      "text/plain": [
       "0.15294117647058825"
      ]
     },
     "execution_count": 3,
     "metadata": {},
     "output_type": "execute_result"
    }
   ],
   "source": [
    "13/(13+72)"
   ]
  },
  {
   "cell_type": "markdown",
   "id": "72312b3a-d654-44f0-aa2c-4e443f007637",
   "metadata": {},
   "source": [
    "15,3%: pas encore mieux que knn où l'on atteignait 15,8%"
   ]
  },
  {
   "cell_type": "markdown",
   "id": "579b0cb5-001a-47f6-9894-e46203c97477",
   "metadata": {},
   "source": [
    "Quel est l'effet de la normalisation avant l'entraînement d'un arbre de décision?\n",
    "\n",
    "La normalisation n'est pas utile pour les arbres de décision"
   ]
  },
  {
   "cell_type": "markdown",
   "id": "707c0574-3930-4ec4-b599-e63bbbfacd76",
   "metadata": {},
   "source": [
    "Définition d'une fonction pour mesurer notre métrique:"
   ]
  },
  {
   "cell_type": "code",
   "execution_count": 4,
   "id": "c11c27cf-832d-430f-ba6f-ac16ab72a627",
   "metadata": {},
   "outputs": [
    {
     "data": {
      "text/plain": [
       "array([[1015,   72],\n",
       "       [  64,   13]])"
      ]
     },
     "execution_count": 4,
     "metadata": {},
     "output_type": "execute_result"
    }
   ],
   "source": [
    "from sklearn.metrics import confusion_matrix\n",
    "cm = confusion_matrix(y_test, y_test_pred)  # ! inversé par rapport à la fonction de ISLP\n",
    "cm # ! affichage transposé par rapport à celui de ISLP"
   ]
  },
  {
   "cell_type": "code",
   "execution_count": 5,
   "id": "d13ce52e-8554-4417-b2e1-3c78544a83ba",
   "metadata": {},
   "outputs": [
    {
     "data": {
      "text/plain": [
       "0.15294117647058825"
      ]
     },
     "execution_count": 5,
     "metadata": {},
     "output_type": "execute_result"
    }
   ],
   "source": [
    "fp = cm[0][1]\n",
    "tp = cm[1][1]\n",
    "\n",
    "tp/(tp+fp)"
   ]
  },
  {
   "cell_type": "markdown",
   "id": "ce74ed78-3d43-4726-b9bc-40a091a0daf0",
   "metadata": {},
   "source": [
    "Définition d'une fonction pour mesurer notre métrique:"
   ]
  },
  {
   "cell_type": "code",
   "execution_count": 6,
   "id": "7ceb9d3b-9adf-4484-a600-3437358a1b75",
   "metadata": {},
   "outputs": [],
   "source": [
    "from sklearn.metrics import confusion_matrix\n",
    "\n",
    "# La valeur prédictive positive : Positive predictive value (PPV), precision\n",
    "def metric(y_true, y_pred):\n",
    "    cm = confusion_matrix(y_true, y_pred)\n",
    "    fp = cm[0][1]\n",
    "    tp = cm[1][1]\n",
    "    \n",
    "    return tp/(tp+fp)"
   ]
  },
  {
   "cell_type": "code",
   "execution_count": 7,
   "id": "45917123-6410-4779-ae00-47712273b69b",
   "metadata": {},
   "outputs": [
    {
     "data": {
      "text/plain": [
       "0.15294117647058825"
      ]
     },
     "execution_count": 7,
     "metadata": {},
     "output_type": "execute_result"
    }
   ],
   "source": [
    "metric(y_test, y_test_pred)"
   ]
  },
  {
   "cell_type": "markdown",
   "id": "e6a11a5f-ee63-4ffe-a6c0-af0e65b1860e",
   "metadata": {},
   "source": [
    "Métrique classique appelée la valeur prédictive positive (en anglais: `Positive predictive value (PPV), precision`)"
   ]
  },
  {
   "cell_type": "code",
   "execution_count": 8,
   "id": "e2104a28-16a3-42c3-a05e-e82a68688835",
   "metadata": {},
   "outputs": [
    {
     "data": {
      "text/plain": [
       "0.15294117647058825"
      ]
     },
     "execution_count": 8,
     "metadata": {},
     "output_type": "execute_result"
    }
   ],
   "source": [
    "from sklearn.metrics import precision_score\n",
    "\n",
    "precision_score(y_test, y_test_pred)"
   ]
  },
  {
   "cell_type": "markdown",
   "id": "ca25e93a-1c70-4f3a-be04-3c84ab3d6a0b",
   "metadata": {},
   "source": [
    "### Exploration des hyperparamètres\n",
    "\n",
    "On peut ensuite faire une exploration des hyperparamètres pour essayer d'améliorer ce résultat.\n",
    "\n",
    "Paramètres de la fonction [DecisionTreeClassifier](https://scikit-learn.org/stable/modules/generated/sklearn.tree.DecisionTreeClassifier.html) de scikit-learn à explorer (a minima):\n",
    "- criterion\n",
    "- max_depth\n",
    "\n",
    "Quelle est la meilleur combinaison d'hyperparamètres?"
   ]
  },
  {
   "cell_type": "code",
   "execution_count": 9,
   "id": "ad191295-f9de-4c37-af22-3cefc1a5ea36",
   "metadata": {},
   "outputs": [
    {
     "data": {
      "text/plain": [
       "[(0.08, 'entropy', 10),\n",
       " (0.08, 'log_loss', 10),\n",
       " (0.15294117647058825, 'gini', None),\n",
       " (0.16216216216216217, 'entropy', None),\n",
       " (0.16216216216216217, 'log_loss', None),\n",
       " (0.1694915254237288, 'gini', 15),\n",
       " (0.17142857142857143, 'entropy', 20),\n",
       " (0.17142857142857143, 'log_loss', 20),\n",
       " (0.17307692307692307, 'entropy', 15),\n",
       " (0.17307692307692307, 'log_loss', 15),\n",
       " (0.17647058823529413, 'entropy', 5),\n",
       " (0.17647058823529413, 'log_loss', 5),\n",
       " (0.18181818181818182, 'gini', 20),\n",
       " (0.22727272727272727, 'gini', 10),\n",
       " (0.2857142857142857, 'gini', 5),\n",
       " (0.3333333333333333, 'entropy', 3),\n",
       " (0.3333333333333333, 'log_loss', 3),\n",
       " (0.375, 'gini', 3)]"
      ]
     },
     "execution_count": 9,
     "metadata": {},
     "output_type": "execute_result"
    }
   ],
   "source": [
    "criterions =['gini', 'entropy', 'log_loss']\n",
    "max_depths = [3, 5, 10, 15, 20, None]\n",
    "\n",
    "results = []\n",
    "for criterion in criterions:\n",
    "    for max_depth in max_depths:\n",
    "        classifier = DecisionTreeClassifier(criterion=criterion, max_depth=max_depth, random_state=42)\n",
    "        classifier.fit(X_train, y_train)\n",
    "        \n",
    "        y_test_pred = classifier.predict(X_test)\n",
    "        results.append((precision_score(y_test, y_test_pred), criterion, max_depth))\n",
    "\n",
    "sorted(results)"
   ]
  },
  {
   "cell_type": "code",
   "execution_count": 10,
   "id": "8bfd23f7-caae-41b3-a08b-a468b01827a2",
   "metadata": {},
   "outputs": [
    {
     "data": {
      "text/html": [
       "<div>\n",
       "<style scoped>\n",
       "    .dataframe tbody tr th:only-of-type {\n",
       "        vertical-align: middle;\n",
       "    }\n",
       "\n",
       "    .dataframe tbody tr th {\n",
       "        vertical-align: top;\n",
       "    }\n",
       "\n",
       "    .dataframe thead th {\n",
       "        text-align: right;\n",
       "    }\n",
       "</style>\n",
       "<table border=\"1\" class=\"dataframe\">\n",
       "  <thead>\n",
       "    <tr style=\"text-align: right;\">\n",
       "      <th>Truth</th>\n",
       "      <th>0</th>\n",
       "      <th>1</th>\n",
       "    </tr>\n",
       "    <tr>\n",
       "      <th>Predicted</th>\n",
       "      <th></th>\n",
       "      <th></th>\n",
       "    </tr>\n",
       "  </thead>\n",
       "  <tbody>\n",
       "    <tr>\n",
       "      <th>0</th>\n",
       "      <td>1085</td>\n",
       "      <td>76</td>\n",
       "    </tr>\n",
       "    <tr>\n",
       "      <th>1</th>\n",
       "      <td>2</td>\n",
       "      <td>1</td>\n",
       "    </tr>\n",
       "  </tbody>\n",
       "</table>\n",
       "</div>"
      ],
      "text/plain": [
       "Truth         0   1\n",
       "Predicted          \n",
       "0          1085  76\n",
       "1             2   1"
      ]
     },
     "execution_count": 10,
     "metadata": {},
     "output_type": "execute_result"
    }
   ],
   "source": [
    "classifier = DecisionTreeClassifier(criterion='entropy', max_depth=3, random_state=42)\n",
    "classifier.fit(X_train, y_train)\n",
    "\n",
    "y_test_pred = classifier.predict(X_test)\n",
    "confusion_table(y_test_pred, y_test)"
   ]
  },
  {
   "cell_type": "markdown",
   "id": "3b24b980-8948-45c0-9011-62110b945e8b",
   "metadata": {},
   "source": [
    "On a certes un bon score, mais très peu de valeurs sélectionnées. Pour réussir à vendre nos contrats d'assurance, c'est pas terrible.\n",
    "\n",
    "Si on veut que nos commerciaux aient un nombre suffisant de prospects à appeler il faudrait contraindre notre solution a choisir un algorithme qui renvoit un nombre suffisant de résultats prédits positifs.\n",
    "\n",
    "Disons au minium `19`, ce qu'on avait avec knn.\n",
    "\n",
    "Quelle est dans ce cas la meilleur combinaison d'hyperparamètres?"
   ]
  },
  {
   "cell_type": "code",
   "execution_count": 11,
   "id": "81a61247-0adc-4958-a46c-cf9dfdba979d",
   "metadata": {},
   "outputs": [
    {
     "data": {
      "text/plain": [
       "[(0.08, 'entropy', 10),\n",
       " (0.08, 'log_loss', 10),\n",
       " (0.15294117647058825, 'gini', None),\n",
       " (0.16216216216216217, 'entropy', None),\n",
       " (0.16216216216216217, 'log_loss', None),\n",
       " (0.1694915254237288, 'gini', 15),\n",
       " (0.17142857142857143, 'entropy', 20),\n",
       " (0.17142857142857143, 'log_loss', 20),\n",
       " (0.17307692307692307, 'entropy', 15),\n",
       " (0.17307692307692307, 'log_loss', 15),\n",
       " (0.18181818181818182, 'gini', 20),\n",
       " (0.22727272727272727, 'gini', 10)]"
      ]
     },
     "execution_count": 11,
     "metadata": {},
     "output_type": "execute_result"
    }
   ],
   "source": [
    "criterions =['gini', 'entropy', 'log_loss']\n",
    "max_depths = [3, 5, 10, 15, 20, None]\n",
    "\n",
    "results = []\n",
    "for criterion in criterions:\n",
    "    for max_depth in max_depths:\n",
    "        classifier = DecisionTreeClassifier(criterion=criterion, max_depth=max_depth, random_state=42)\n",
    "        classifier.fit(X_train, y_train)\n",
    "        \n",
    "        y_test_pred = classifier.predict(X_test)\n",
    "        if sum(y_test_pred) >= 19:\n",
    "            results.append((precision_score(y_test, y_test_pred), criterion, max_depth))\n",
    "\n",
    "sorted(results)"
   ]
  },
  {
   "cell_type": "markdown",
   "id": "ba6ec880-2edc-44d6-9c5f-8dd279e0133a",
   "metadata": {},
   "source": [
    "### Meilleur résultat"
   ]
  },
  {
   "cell_type": "code",
   "execution_count": 12,
   "id": "3c254230-8266-4718-b27b-61c5625822ab",
   "metadata": {},
   "outputs": [
    {
     "data": {
      "text/html": [
       "<div>\n",
       "<style scoped>\n",
       "    .dataframe tbody tr th:only-of-type {\n",
       "        vertical-align: middle;\n",
       "    }\n",
       "\n",
       "    .dataframe tbody tr th {\n",
       "        vertical-align: top;\n",
       "    }\n",
       "\n",
       "    .dataframe thead th {\n",
       "        text-align: right;\n",
       "    }\n",
       "</style>\n",
       "<table border=\"1\" class=\"dataframe\">\n",
       "  <thead>\n",
       "    <tr style=\"text-align: right;\">\n",
       "      <th>Truth</th>\n",
       "      <th>0</th>\n",
       "      <th>1</th>\n",
       "    </tr>\n",
       "    <tr>\n",
       "      <th>Predicted</th>\n",
       "      <th></th>\n",
       "      <th></th>\n",
       "    </tr>\n",
       "  </thead>\n",
       "  <tbody>\n",
       "    <tr>\n",
       "      <th>0</th>\n",
       "      <td>1053</td>\n",
       "      <td>67</td>\n",
       "    </tr>\n",
       "    <tr>\n",
       "      <th>1</th>\n",
       "      <td>34</td>\n",
       "      <td>10</td>\n",
       "    </tr>\n",
       "  </tbody>\n",
       "</table>\n",
       "</div>"
      ],
      "text/plain": [
       "Truth         0   1\n",
       "Predicted          \n",
       "0          1053  67\n",
       "1            34  10"
      ]
     },
     "execution_count": 12,
     "metadata": {},
     "output_type": "execute_result"
    }
   ],
   "source": [
    "classifier = DecisionTreeClassifier(criterion='gini', max_depth=10, random_state=42)\n",
    "classifier.fit(X_train, y_train)\n",
    "\n",
    "y_test_pred = classifier.predict(X_test)\n",
    "confusion_table(y_test_pred, y_test)"
   ]
  },
  {
   "cell_type": "code",
   "execution_count": 13,
   "id": "ac3b15de-3d9b-4b52-93d9-b7db76a17915",
   "metadata": {},
   "outputs": [
    {
     "data": {
      "text/plain": [
       "0.22727272727272727"
      ]
     },
     "execution_count": 13,
     "metadata": {},
     "output_type": "execute_result"
    }
   ],
   "source": [
    "precision_score(y_test, y_test_pred)"
   ]
  },
  {
   "cell_type": "markdown",
   "id": "bf758adc-042c-418b-b9de-f2ba5e3abcfc",
   "metadata": {},
   "source": [
    "### Affinons la solution"
   ]
  },
  {
   "cell_type": "markdown",
   "id": "03f0185e-de25-47db-9f6c-a9e65d5bb37f",
   "metadata": {},
   "source": [
    "Est-il possible d'améliorer le résultat obtenu?"
   ]
  },
  {
   "cell_type": "code",
   "execution_count": 14,
   "id": "fc2070a8-44f7-4603-bc99-542d2daf20b5",
   "metadata": {},
   "outputs": [
    {
     "data": {
      "text/plain": [
       "[(0.2222222222222222, 'gini', 11),\n",
       " (0.2222222222222222, 'gini', 14),\n",
       " (0.22448979591836735, 'gini', 12),\n",
       " (0.22727272727272727, 'gini', 10),\n",
       " (0.24528301886792453, 'gini', 13),\n",
       " (0.25, 'gini', 7),\n",
       " (0.25, 'gini', 9),\n",
       " (0.2727272727272727, 'gini', 8)]"
      ]
     },
     "execution_count": 14,
     "metadata": {},
     "output_type": "execute_result"
    }
   ],
   "source": [
    "criterion='gini'\n",
    "max_depths = list(range(7,15))\n",
    "\n",
    "results = []\n",
    "for max_depth in max_depths:\n",
    "    classifier = DecisionTreeClassifier(criterion=criterion, max_depth=max_depth, random_state=42)\n",
    "    classifier.fit(X_train, y_train)\n",
    "    \n",
    "    y_test_pred = classifier.predict(X_test)\n",
    "    if sum(y_test_pred) >= 19:\n",
    "        results.append((precision_score(y_test, y_test_pred), criterion, max_depth))\n",
    "\n",
    "sorted(results)"
   ]
  },
  {
   "cell_type": "code",
   "execution_count": 15,
   "id": "90c5ffda-1d78-4f8e-b114-59ebcc7e7c8b",
   "metadata": {},
   "outputs": [
    {
     "name": "stdout",
     "output_type": "stream",
     "text": [
      "valeur prédictive positive: 27 %\n"
     ]
    },
    {
     "data": {
      "text/html": [
       "<div>\n",
       "<style scoped>\n",
       "    .dataframe tbody tr th:only-of-type {\n",
       "        vertical-align: middle;\n",
       "    }\n",
       "\n",
       "    .dataframe tbody tr th {\n",
       "        vertical-align: top;\n",
       "    }\n",
       "\n",
       "    .dataframe thead th {\n",
       "        text-align: right;\n",
       "    }\n",
       "</style>\n",
       "<table border=\"1\" class=\"dataframe\">\n",
       "  <thead>\n",
       "    <tr style=\"text-align: right;\">\n",
       "      <th>Truth</th>\n",
       "      <th>0</th>\n",
       "      <th>1</th>\n",
       "    </tr>\n",
       "    <tr>\n",
       "      <th>Predicted</th>\n",
       "      <th></th>\n",
       "      <th></th>\n",
       "    </tr>\n",
       "  </thead>\n",
       "  <tbody>\n",
       "    <tr>\n",
       "      <th>0</th>\n",
       "      <td>1071</td>\n",
       "      <td>71</td>\n",
       "    </tr>\n",
       "    <tr>\n",
       "      <th>1</th>\n",
       "      <td>16</td>\n",
       "      <td>6</td>\n",
       "    </tr>\n",
       "  </tbody>\n",
       "</table>\n",
       "</div>"
      ],
      "text/plain": [
       "Truth         0   1\n",
       "Predicted          \n",
       "0          1071  71\n",
       "1            16   6"
      ]
     },
     "execution_count": 15,
     "metadata": {},
     "output_type": "execute_result"
    }
   ],
   "source": [
    "classifier = DecisionTreeClassifier(criterion='gini', max_depth=8, random_state=42)\n",
    "classifier.fit(X_train, y_train)\n",
    "\n",
    "y_test_pred = classifier.predict(X_test)\n",
    "print('valeur prédictive positive: {0:0.0f} %'.format(precision_score(y_test, y_test_pred)*100))\n",
    "confusion_table(y_test_pred, y_test)"
   ]
  },
  {
   "cell_type": "code",
   "execution_count": null,
   "id": "ccffd028-0d0c-44e9-b197-c591a25340a3",
   "metadata": {},
   "outputs": [],
   "source": []
  }
 ],
 "metadata": {
  "kernelspec": {
   "display_name": "ml",
   "language": "python",
   "name": "ml"
  },
  "language_info": {
   "codemirror_mode": {
    "name": "ipython",
    "version": 3
   },
   "file_extension": ".py",
   "mimetype": "text/x-python",
   "name": "python",
   "nbconvert_exporter": "python",
   "pygments_lexer": "ipython3",
   "version": "3.11.8"
  }
 },
 "nbformat": 4,
 "nbformat_minor": 5
}
